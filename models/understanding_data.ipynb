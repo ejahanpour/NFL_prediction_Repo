{
 "cells": [
  {
   "cell_type": "code",
   "execution_count": 12,
   "metadata": {
    "collapsed": true
   },
   "outputs": [],
   "source": [
    "import pandas as pd\n",
    "from collections import Counter\n",
    "import seaborn as sns\n",
    "import matplotlib.pyplot as plt\n",
    "import sys\n",
    "import numpy as np\n",
    "repo_path = '/Users/ehsan/Desktop/NFL_prediction/'\n"
   ]
  },
  {
   "cell_type": "code",
   "execution_count": 2,
   "metadata": {},
   "outputs": [
    {
     "name": "stderr",
     "output_type": "stream",
     "text": [
      "/Users/ehsan/anaconda3/lib/python3.5/site-packages/IPython/core/interactiveshell.py:2717: DtypeWarning: Columns (47) have mixed types. Specify dtype option on import or set low_memory=False.\n",
      "  interactivity=interactivity, compiler=compiler, result=result)\n"
     ]
    }
   ],
   "source": [
    "dataset = pd.read_csv(repo_path+'datasets/train.csv')\n",
    "dataset.loc[dataset.FieldPosition == 'ARZ', 'FieldPosition'] = 'ARI'"
   ]
  },
  {
   "cell_type": "code",
   "execution_count": 3,
   "metadata": {},
   "outputs": [
    {
     "name": "stdout",
     "output_type": "stream",
     "text": [
      "                                               0                         1\n",
      "GameId                                2017090700                2017090700\n",
      "PlayId                            20170907000118            20170907000118\n",
      "Team                                        away                      away\n",
      "X                                          73.91                     74.67\n",
      "Y                                          34.84                     32.64\n",
      "S                                           1.69                      0.42\n",
      "A                                           1.13                      1.35\n",
      "Dis                                          0.4                      0.01\n",
      "Orientation                                81.99                     27.61\n",
      "Dir                                       177.18                     198.7\n",
      "NflId                                     496723                   2495116\n",
      "DisplayName                           Eric Berry              Allen Bailey\n",
      "JerseyNumber                                  29                        97\n",
      "Season                                      2017                      2017\n",
      "YardLine                                      35                        35\n",
      "Quarter                                        1                         1\n",
      "GameClock                               14:14:00                  14:14:00\n",
      "PossessionTeam                                NE                        NE\n",
      "Down                                           3                         3\n",
      "Distance                                       2                         2\n",
      "FieldPosition                                 NE                        NE\n",
      "HomeScoreBeforePlay                            0                         0\n",
      "VisitorScoreBeforePlay                         0                         0\n",
      "NflIdRusher                              2543773                   2543773\n",
      "OffenseFormation                         SHOTGUN                   SHOTGUN\n",
      "OffensePersonnel                1 RB, 1 TE, 3 WR          1 RB, 1 TE, 3 WR\n",
      "DefendersInTheBox                              6                         6\n",
      "DefensePersonnel                2 DL, 3 LB, 6 DB          2 DL, 3 LB, 6 DB\n",
      "PlayDirection                               left                      left\n",
      "TimeHandoff             2017-09-08T00:44:06.000Z  2017-09-08T00:44:06.000Z\n",
      "TimeSnap                2017-09-08T00:44:05.000Z  2017-09-08T00:44:05.000Z\n",
      "Yards                                          8                         8\n",
      "PlayerHeight                                 6-0                       6-3\n",
      "PlayerWeight                                 212                       288\n",
      "PlayerBirthDate                       12/29/1988                03/25/1989\n",
      "PlayerCollegeName                      Tennessee                     Miami\n",
      "Position                                      SS                        DE\n",
      "HomeTeamAbbr                                  NE                        NE\n",
      "VisitorTeamAbbr                               KC                        KC\n",
      "Week                                           1                         1\n",
      "Stadium                         Gillette Stadium          Gillette Stadium\n",
      "Location                          Foxborough, MA            Foxborough, MA\n",
      "StadiumType                              Outdoor                   Outdoor\n",
      "Turf                                  Field Turf                Field Turf\n",
      "GameWeather                       Clear and warm            Clear and warm\n",
      "Temperature                                   63                        63\n",
      "Humidity                                      77                        77\n",
      "WindSpeed                                      8                         8\n",
      "WindDirection                                 SW                        SW\n"
     ]
    }
   ],
   "source": [
    "print(dataset[:2].transpose())"
   ]
  },
  {
   "cell_type": "markdown",
   "metadata": {},
   "source": [
    "### Finding the number of observation per feature and average yard \n",
    "One of the items that might has an impact on the yards could be defense team positional group. Let's see how many different positions a team can stay:"
   ]
  },
  {
   "cell_type": "code",
   "execution_count": 4,
   "metadata": {
    "collapsed": true
   },
   "outputs": [],
   "source": [
    "def plot_feature_yard(feature_name):\n",
    "    defense_counts = pd.DataFrame.from_dict(Counter(dataset[feature_name]), orient='index').reset_index()\n",
    "    defense_yard = dataset[[feature_name, 'Yards']].groupby(feature_name).mean().reset_index()\n",
    "    defense_info = pd.merge(defense_counts, defense_yard, how='inner', left_on=['index'], right_on=[feature_name]).drop('index', axis=1).rename(columns={0:'freq'})\n",
    "    plt.figure(figsize=(15, 4))\n",
    "    defense_info.plot(x = feature_name, y = 'freq', kind = 'bar', figsize=(15, 4))\n",
    "    defense_info['Yards'].plot(secondary_y = True, rot = 90)\n",
    "plot_feature_yard('Stadium')"
   ]
  },
  {
   "cell_type": "markdown",
   "metadata": {},
   "source": [
    "### Visualizing the missing value pattern"
   ]
  },
  {
   "cell_type": "code",
   "execution_count": null,
   "metadata": {
    "collapsed": true
   },
   "outputs": [],
   "source": [
    "fig, ax = plt.subplots(figsize=(14.5,5))\n",
    "sns.heatmap(dataset.isnull(), cbar = False, ax = ax)"
   ]
  },
  {
   "cell_type": "markdown",
   "metadata": {},
   "source": [
    "### Correlation between variables\n"
   ]
  },
  {
   "cell_type": "code",
   "execution_count": null,
   "metadata": {
    "collapsed": true
   },
   "outputs": [],
   "source": [
    "fig, ax = plt.subplots(figsize=(10,10))\n",
    "corr = dataset.corr()\n",
    "ax = sns.heatmap(\n",
    "    corr, \n",
    "    vmin=-1, vmax=1, center=0,\n",
    "    cmap=sns.diverging_palette(20, 220, n=200),\n",
    "    square=True\n",
    ")\n",
    "ax.set_xticklabels(\n",
    "    ax.get_xticklabels(),\n",
    "    rotation=45,\n",
    "    horizontalalignment='right'\n",
    ");\n"
   ]
  },
  {
   "cell_type": "markdown",
   "metadata": {},
   "source": [
    "### Data Cleaning and imputation\n",
    "We can idnetify the unique part of the game by grouping by GameId and TimeSnap and since the max and minimum of the group by is 22 (equal to the total number of players) it could be a unique identifier"
   ]
  },
  {
   "cell_type": "code",
   "execution_count": 5,
   "metadata": {
    "collapsed": true
   },
   "outputs": [],
   "source": [
    "unique_play = dataset.groupby(['GameId', 'TimeSnap']).count()[['PlayId']].reset_index()\n",
    "assert unique_play.PlayId.min() == unique_play.PlayId.max()"
   ]
  },
  {
   "cell_type": "markdown",
   "metadata": {},
   "source": [
    "### Displaying a situation"
   ]
  },
  {
   "cell_type": "code",
   "execution_count": 24,
   "metadata": {},
   "outputs": [
    {
     "name": "stdout",
     "output_type": "stream",
     "text": [
      "The game is selected is with Id 2017111902 and snap 2017-11-19T20:27:53.000Z\n",
      "Home team ['GB'] Feild Position ['BLT'] Possession Team ['BLT'] Down [1] Move: ['left'] Yard moved [5]\n",
      "YardLine 66 yard_to_down 56\n"
     ]
    },
    {
     "name": "stderr",
     "output_type": "stream",
     "text": [
      "/Users/ehsan/anaconda3/lib/python3.5/site-packages/ipykernel/__main__.py:8: SettingWithCopyWarning: \n",
      "A value is trying to be set on a copy of a slice from a DataFrame.\n",
      "Try using .loc[row_indexer,col_indexer] = value instead\n",
      "\n",
      "See the caveats in the documentation: http://pandas.pydata.org/pandas-docs/stable/user_guide/indexing.html#returning-a-view-versus-a-copy\n"
     ]
    },
    {
     "data": {
      "image/png": "[encoded data removed]",
      "text/plain": [
       "<matplotlib.figure.Figure at 0x1a208402e8>"
      ]
     },
     "metadata": {},
     "output_type": "display_data"
    }
   ],
   "source": [
    "GameId = dataset.GameId.sample().values[0]\n",
    "TimeSnap = dataset[dataset.GameId == GameId]['TimeSnap'].sample().values[0]\n",
    "def plot_field(GameId, TimeSnap):\n",
    "    filled_markers = ('o', 'v', '^', '<', '>', '8', 's', 'p', '*', 'h', 'H', 'D', 'd', 'P', 'X', '+', '-')\n",
    "    plt.figure(figsize=(16, 6))\n",
    "    print('The game is selected is with Id', GameId, 'and snap', TimeSnap)\n",
    "    game_data = dataset[(dataset.GameId == GameId) & (dataset.TimeSnap == TimeSnap)]\n",
    "    game_data['IsRusher'] = np.where(game_data.NflIdRusher == game_data.NflId, 'Yes', 'No')\n",
    "#     print(game_data.columns)\n",
    "    sns.scatterplot(x = 'X', \n",
    "                   y = 'Y',\n",
    "                   data = game_data,\n",
    "                   hue = 'Team',\n",
    "                   style = 'IsRusher',\n",
    "                   markers = filled_markers)\n",
    "    YardLine = game_data.reset_index().YardLine[0] + 10 # The first 10 yard is the touch down area\n",
    "    if (game_data.PossessionTeam.unique() != game_data.FieldPosition.unique() and game_data.PlayDirection.unique()[0] == 'right') or \\\n",
    "    (game_data.PossessionTeam.unique() == game_data.FieldPosition.unique() and game_data.PlayDirection.unique()[0] == 'left'):\n",
    "        YardLine = 110 - game_data.reset_index().YardLine[0]\n",
    "    # CenterPosition = game_data[game_data.Position == 'C']['X'].values[0]\n",
    "    if game_data.PlayDirection.unique()[0] == 'right':\n",
    "        Yard10 = YardLine + game_data.Distance.unique()[0]\n",
    "        DownPosition = YardLine + game_data.Yards.unique()[0]\n",
    "    else:\n",
    "        Yard10 = YardLine - game_data.Distance.unique()[0]\n",
    "        DownPosition = YardLine - game_data.Yards.unique()[0]\n",
    "    print(\"Home team\", game_data.HomeTeamAbbr.unique(), \"Feild Position\", game_data.FieldPosition.unique(), \"Possession Team\", game_data.PossessionTeam.unique(), \"Down\", game_data.Down.unique(),\n",
    "         'Move:', game_data.PlayDirection.unique(), \"Yard moved\", game_data.Yards.unique())\n",
    "    print('YardLine', YardLine, 'yard_to_down', Yard10)\n",
    "    plt.axvline(YardLine, 0, 50, color = 'y')\n",
    "    plt.axvline(Yard10, 0, 50, color = 'k')\n",
    "    plt.axvline(DownPosition, 0, 50, color = 'r', linestyle = '--')\n",
    "    plt.show()\n",
    "    # plt.axvline(CenterPosition, 0, 50, color = 'orange')\n",
    "plot_field(GameId, TimeSnap)"
   ]
  },
  {
   "cell_type": "code",
   "execution_count": 18,
   "metadata": {},
   "outputs": [
    {
     "data": {
      "text/html": [
       "<div>\n",
       "<style scoped>\n",
       "    .dataframe tbody tr th:only-of-type {\n",
       "        vertical-align: middle;\n",
       "    }\n",
       "\n",
       "    .dataframe tbody tr th {\n",
       "        vertical-align: top;\n",
       "    }\n",
       "\n",
       "    .dataframe thead th {\n",
       "        text-align: right;\n",
       "    }\n",
       "</style>\n",
       "<table border=\"1\" class=\"dataframe\">\n",
       "  <thead>\n",
       "    <tr style=\"text-align: right;\">\n",
       "      <th></th>\n",
       "      <th>Position</th>\n",
       "      <th>C</th>\n",
       "      <th>CB</th>\n",
       "      <th>DB</th>\n",
       "      <th>DE</th>\n",
       "      <th>DL</th>\n",
       "      <th>DT</th>\n",
       "      <th>FB</th>\n",
       "      <th>FS</th>\n",
       "      <th>G</th>\n",
       "      <th>HB</th>\n",
       "      <th>...</th>\n",
       "      <th>OLB</th>\n",
       "      <th>OT</th>\n",
       "      <th>QB</th>\n",
       "      <th>RB</th>\n",
       "      <th>S</th>\n",
       "      <th>SAF</th>\n",
       "      <th>SS</th>\n",
       "      <th>T</th>\n",
       "      <th>TE</th>\n",
       "      <th>WR</th>\n",
       "    </tr>\n",
       "    <tr>\n",
       "      <th>GameId</th>\n",
       "      <th>TimeSnap</th>\n",
       "      <th></th>\n",
       "      <th></th>\n",
       "      <th></th>\n",
       "      <th></th>\n",
       "      <th></th>\n",
       "      <th></th>\n",
       "      <th></th>\n",
       "      <th></th>\n",
       "      <th></th>\n",
       "      <th></th>\n",
       "      <th></th>\n",
       "      <th></th>\n",
       "      <th></th>\n",
       "      <th></th>\n",
       "      <th></th>\n",
       "      <th></th>\n",
       "      <th></th>\n",
       "      <th></th>\n",
       "      <th></th>\n",
       "      <th></th>\n",
       "      <th></th>\n",
       "    </tr>\n",
       "  </thead>\n",
       "  <tbody>\n",
       "    <tr>\n",
       "      <th>2017092410</th>\n",
       "      <th>2017-09-24T22:22:44.000Z</th>\n",
       "      <td>1</td>\n",
       "      <td>2</td>\n",
       "      <td>0</td>\n",
       "      <td>1</td>\n",
       "      <td>0</td>\n",
       "      <td>2</td>\n",
       "      <td>0</td>\n",
       "      <td>1</td>\n",
       "      <td>2</td>\n",
       "      <td>0</td>\n",
       "      <td>...</td>\n",
       "      <td>1</td>\n",
       "      <td>0</td>\n",
       "      <td>0</td>\n",
       "      <td>2</td>\n",
       "      <td>0</td>\n",
       "      <td>0</td>\n",
       "      <td>1</td>\n",
       "      <td>2</td>\n",
       "      <td>3</td>\n",
       "      <td>1</td>\n",
       "    </tr>\n",
       "    <tr>\n",
       "      <th>2017111208</th>\n",
       "      <th>2017-11-12T21:07:48.000Z</th>\n",
       "      <td>1</td>\n",
       "      <td>2</td>\n",
       "      <td>0</td>\n",
       "      <td>1</td>\n",
       "      <td>0</td>\n",
       "      <td>2</td>\n",
       "      <td>0</td>\n",
       "      <td>1</td>\n",
       "      <td>2</td>\n",
       "      <td>0</td>\n",
       "      <td>...</td>\n",
       "      <td>2</td>\n",
       "      <td>1</td>\n",
       "      <td>0</td>\n",
       "      <td>1</td>\n",
       "      <td>0</td>\n",
       "      <td>0</td>\n",
       "      <td>1</td>\n",
       "      <td>1</td>\n",
       "      <td>2</td>\n",
       "      <td>3</td>\n",
       "    </tr>\n",
       "  </tbody>\n",
       "</table>\n",
       "<p>2 rows × 25 columns</p>\n",
       "</div>"
      ],
      "text/plain": [
       "Position                             C  CB  DB  DE  DL  DT  FB  FS  G  HB  \\\n",
       "GameId     TimeSnap                                                         \n",
       "2017092410 2017-09-24T22:22:44.000Z  1   2   0   1   0   2   0   1  2   0   \n",
       "2017111208 2017-11-12T21:07:48.000Z  1   2   0   1   0   2   0   1  2   0   \n",
       "\n",
       "Position                             ...  OLB  OT  QB  RB  S  SAF  SS  T  TE  \\\n",
       "GameId     TimeSnap                  ...                                       \n",
       "2017092410 2017-09-24T22:22:44.000Z  ...    1   0   0   2  0    0   1  2   3   \n",
       "2017111208 2017-11-12T21:07:48.000Z  ...    2   1   0   1  0    0   1  1   2   \n",
       "\n",
       "Position                             WR  \n",
       "GameId     TimeSnap                      \n",
       "2017092410 2017-09-24T22:22:44.000Z   1  \n",
       "2017111208 2017-11-12T21:07:48.000Z   3  \n",
       "\n",
       "[2 rows x 25 columns]"
      ]
     },
     "execution_count": 18,
     "metadata": {},
     "output_type": "execute_result"
    }
   ],
   "source": [
    "GameStrategy = dataset.groupby(['GameId', 'TimeSnap']).Position.value_counts().unstack(fill_value = 0)\n",
    "no_qb = GameStrategy[GameStrategy.QB == 0]\n",
    "# Games with no quarter back\n",
    "no_qb"
   ]
  },
  {
   "cell_type": "code",
   "execution_count": 23,
   "metadata": {},
   "outputs": [
    {
     "name": "stdout",
     "output_type": "stream",
     "text": [
      "The game is selected is with Id 2017092800 and snap 2017-09-29T04:17:03.000Z\n",
      "Home team ['GB'] Feild Position ['CHI'] Possession Team ['CHI'] Down [4] Move: ['right'] Yard moved [3]\n",
      "YardLine 59 yard_to_down 60\n"
     ]
    },
    {
     "name": "stderr",
     "output_type": "stream",
     "text": [
      "/Users/ehsan/anaconda3/lib/python3.5/site-packages/ipykernel/__main__.py:8: SettingWithCopyWarning: \n",
      "A value is trying to be set on a copy of a slice from a DataFrame.\n",
      "Try using .loc[row_indexer,col_indexer] = value instead\n",
      "\n",
      "See the caveats in the documentation: http://pandas.pydata.org/pandas-docs/stable/user_guide/indexing.html#returning-a-view-versus-a-copy\n"
     ]
    },
    {
     "data": {
      "image/png": "[encoded data removed]",
      "text/plain": [
       "<matplotlib.figure.Figure at 0x1a20571358>"
      ]
     },
     "metadata": {},
     "output_type": "display_data"
    }
   ],
   "source": [
    "plot_field(GameId = 2017092800, TimeSnap='2017-09-29T04:17:03.000Z')"
   ]
  },
  {
   "cell_type": "code",
   "execution_count": 28,
   "metadata": {},
   "outputs": [
    {
     "name": "stdout",
     "output_type": "stream",
     "text": [
      "The game is selected is with Id 2017112600 and snap 2017-11-26T20:04:11.000Z\n",
      "Home team ['ATL'] Feild Position ['ATL'] Possession Team ['ATL'] Down [1] Move: ['right'] Yard moved [4]\n",
      "YardLine 59 yard_to_down 69\n"
     ]
    },
    {
     "name": "stderr",
     "output_type": "stream",
     "text": [
      "/Users/ehsan/anaconda3/lib/python3.5/site-packages/ipykernel/__main__.py:8: SettingWithCopyWarning: \n",
      "A value is trying to be set on a copy of a slice from a DataFrame.\n",
      "Try using .loc[row_indexer,col_indexer] = value instead\n",
      "\n",
      "See the caveats in the documentation: http://pandas.pydata.org/pandas-docs/stable/user_guide/indexing.html#returning-a-view-versus-a-copy\n"
     ]
    },
    {
     "data": {
      "image/png": "[encoded data removed]",
      "text/plain": [
       "<matplotlib.figure.Figure at 0x1a20340208>"
      ]
     },
     "metadata": {},
     "output_type": "display_data"
    }
   ],
   "source": [
    "GameId = dataset.GameId.sample().values[0]\n",
    "TimeSnap = dataset[dataset.GameId == GameId]['TimeSnap'].sample().values[0]\n",
    "\n",
    "plot_field(GameId, TimeSnap)"
   ]
  },
  {
   "cell_type": "code",
   "execution_count": null,
   "metadata": {
    "collapsed": true
   },
   "outputs": [],
   "source": []
  }
 ],
 "metadata": {
  "kernelspec": {
   "display_name": "Python [Root]",
   "language": "python",
   "name": "Python [Root]"
  },
  "language_info": {
   "codemirror_mode": {
    "name": "ipython",
    "version": 3
   },
   "file_extension": ".py",
   "mimetype": "text/x-python",
   "name": "python",
   "nbconvert_exporter": "python",
   "pygments_lexer": "ipython3",
   "version": "3.5.4"
  }
 },
 "nbformat": 4,
 "nbformat_minor": 2
}
