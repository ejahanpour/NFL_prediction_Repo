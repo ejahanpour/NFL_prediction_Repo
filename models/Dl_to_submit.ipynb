{
 "cells": [
  {
   "cell_type": "code",
   "execution_count": 255,
   "metadata": {
    "collapsed": true
   },
   "outputs": [],
   "source": [
    "import pandas as pd\n",
    "import numpy as np\n",
    "import torch\n",
    "import torch.nn as nn\n",
    "import random\n",
    "random.seed(123)\n",
    "import warnings\n",
    "warnings.filterwarnings(\"ignore\")\n",
    "import os\n",
    "from sklearn import preprocessing\n",
    "import matplotlib.pyplot as plt\n",
    "\n",
    "os.environ['KMP_DUPLICATE_LIB_OK']='True'"
   ]
  },
  {
   "cell_type": "code",
   "execution_count": 317,
   "metadata": {
    "collapsed": true
   },
   "outputs": [],
   "source": [
    "def clean_reformat(dataset):\n",
    "    dataset.loc[dataset.PossessionTeam == 'ARZ', 'PossessionTeam'] = 'ARI'\n",
    "    dataset.loc[dataset.PossessionTeam == 'BLT', 'PossessionTeam'] = 'BAL'\n",
    "    dataset.loc[dataset.PossessionTeam == 'CLV', 'PossessionTeam'] = 'CLE'\n",
    "    dataset.loc[dataset.PossessionTeam == 'HST', 'PossessionTeam'] = 'HOU'\n",
    "    dataset.loc[dataset.PossessionTeam == 'ARZ', 'FieldPosition'] = 'ARI'\n",
    "    dataset.loc[dataset.PossessionTeam == 'BLT', 'FieldPosition'] = 'BAL'\n",
    "    dataset.loc[dataset.PossessionTeam == 'CLV', 'FieldPosition'] = 'CLE'\n",
    "    dataset.loc[dataset.PossessionTeam == 'HST', 'FieldPosition'] = 'HOU'\n",
    "    dataset[['X', 'Y', 'S', 'A', 'Orientation']] = dataset[['X', 'Y', 'S', 'A', 'Orientation']].fillna(0)\n",
    "    # dataset['GameSnap'] = dataset['GameId'].map(str) + dataset['TimeSnap'].map(str)\n",
    "    # dataset['GameSnap'] = dataset['PlayId'].map(str)\n",
    "    # dataset['TimeHandoff'] = pd.to_datetime(dataset['TimeHandoff'], format = \"%Y-%m-%dT%H:%M:%S\")\n",
    "    # dataset['TimeSnap'] = pd.to_datetime(dataset['TimeSnap'], format = \"%Y-%m-%dT%H:%M:%S\")\n",
    "    # # WindSpeed and WindDirection are switched for some rows in the dataset, the following script is used to switch them back to the sampe spot\n",
    "    # mask = dataset['WindDirection'].map(lambda x: str(x).isnumeric()) & (dataset['WindSpeed'].map(lambda x: not str(x).isnumeric()))\n",
    "    # wrong_ds = dataset[mask]\n",
    "    # dataset.loc[mask, 'WindDirection'] = wrong_ds['WindSpeed']\n",
    "    # dataset.loc[mask, 'WindSpeed'] = wrong_ds['WindDirection'].astype(int)\n",
    "    # dataset['WindSpeed'] = dataset['WindSpeed'].apply(lambda x: numerize(x))\n",
    "    # dataset['Stadium'] = dataset['Stadium'].str.replace('Stadium', '')\n",
    "    # dataset['Stadium'] = dataset['Stadium'].str.strip()   # remove the leading spaces from the rows\n",
    "    # dataset['WindSpeed'] = dataset['WindSpeed'].astype(str).str.replace('(mph|MPH|MPh|-.*|g.*)', '')\n",
    "    # dataset['WindSpeed'] = dataset['WindSpeed'].astype(str).str.strip()\n",
    "    # dataset.loc[dataset.WindSpeed == 'Calm', 'WindSpeed'] = '0'\n",
    "    return dataset\n"
   ]
  },
  {
   "cell_type": "code",
   "execution_count": 318,
   "metadata": {
    "collapsed": true
   },
   "outputs": [],
   "source": [
    "# metadata\n",
    "subset_rate, test_portion = 0.7, 0.2\n",
    "dataset = pd.read_csv('../datasets/train.csv', low_memory=False)\n",
    "dataset = clean_reformat(dataset)"
   ]
  },
  {
   "cell_type": "code",
   "execution_count": null,
   "metadata": {
    "collapsed": true
   },
   "outputs": [],
   "source": [
    "def train_test_split(dataset, subset_rate, test_portion):\n",
    "    game_id = random.sample(list(dataset.GameId.unique()), int(subset_rate * len(dataset.GameId.unique())))\n",
    "    test_id, train_id = game_id[:int(test_portion * len(game_id))], game_id[int(test_portion * len(game_id)):]\n",
    "    train_plays = dataset.loc[dataset.GameId.isin(train_id), 'PlayId'].unique()\n",
    "    test_plays = dataset.loc[dataset.GameId.isin(test_id), 'PlayId'].unique()\n",
    "    # x_train, y_train = transform_train_test(train_plays)\n",
    "    # x_test, y_test = transform_train_test(test_plays)\n",
    "    return train_plays, test_plays\n"
   ]
  },
  {
   "cell_type": "code",
   "execution_count": 320,
   "metadata": {
    "collapsed": true
   },
   "outputs": [],
   "source": [
    "train_playid, test_playid = train_test_split(dataset, subset_rate = subset_rate, test_portion = test_portion)"
   ]
  },
  {
   "cell_type": "code",
   "execution_count": 321,
   "metadata": {
    "collapsed": true
   },
   "outputs": [],
   "source": [
    "def engineer_rusher_feature(dataset, play_id_list, is_train = True, is_submission = False, scaler = None):\n",
    "    dataset['IsRusher'] = False\n",
    "    dataset.loc[dataset.NflId == dataset.NflIdRusher, 'IsRusher'] = True\n",
    "    # dataset['OffenseDefense'] = 'D'\n",
    "    dataset['OffenseDefense'] = np.where((dataset.PossessionTeam == dataset.HomeTeamAbbr) & \\\n",
    "                                        (dataset.Team == 'home'), 'O', \n",
    "                                    np.where((dataset.PossessionTeam == dataset.VisitorTeamAbbr) & \\\n",
    "                                            (dataset.Team == 'away'), 'O', 'D'))\n",
    "    cols_to_scale = ['X', 'Y', 'S', 'A', 'Orientation']\n",
    "    if is_train:\n",
    "        scaler = preprocessing.MinMaxScaler()\n",
    "        dataset[cols_to_scale] = scaler.fit_transform(dataset[cols_to_scale])\n",
    "    else:\n",
    "        dataset[cols_to_scale] = scaler.transform(dataset[cols_to_scale])\n",
    "    X = []\n",
    "    Y = []\n",
    "    for play_id in play_id_list:\n",
    "        game_data = dataset[dataset.PlayId == play_id]\n",
    "        cols_to_dl = ['PlayId', 'X', 'Y', 'S', 'A', 'Orientation', 'IsRusher', 'OffenseDefense', 'PlayDirection', 'Yards']\n",
    "        spatial_data = game_data[cols_to_dl]\n",
    "        rusher_data = spatial_data[spatial_data.IsRusher]\n",
    "        if spatial_data.PlayDirection.values[0] == 'right':\n",
    "            spatial_data[['X', 'Y']] = spatial_data[['X', 'Y']].values - rusher_data[['X', 'Y']].values\n",
    "        else:\n",
    "            spatial_data[['X', 'Y']] = rusher_data[['X', 'Y']].values - spatial_data[['X', 'Y']].values\n",
    "        spatial_data['RusherDistance'] = np.sqrt(np.square(spatial_data.X) + np.square(spatial_data.Y))\n",
    "        spatial_data = spatial_data.sort_values(by = ['OffenseDefense', 'RusherDistance'])\n",
    "        dl_input = list(pd.concat([spatial_data.X, spatial_data.Y, spatial_data.S, spatial_data.A, \n",
    "                                  spatial_data.Orientation, spatial_data.RusherDistance]))\n",
    "        X.append(dl_input)\n",
    "#         dl_output = []\n",
    "#         dl_output[:199] = [0] * 199\n",
    "#         dl_output[(99 + int(spatial_data.Yards.values[0])):] = 1\n",
    "#         Y.append(dl_output)\n",
    "        if is_submission == False:\n",
    "            Y.append(99+int(spatial_data.Yards.values[0]))\n",
    "    return torch.FloatTensor(X), torch.tensor(Y, dtype=torch.long), scaler\n"
   ]
  },
  {
   "cell_type": "code",
   "execution_count": 322,
   "metadata": {
    "collapsed": true
   },
   "outputs": [],
   "source": [
    "model_x, model_y, scaler = engineer_rusher_feature(dataset = dataset, play_id_list = train_playid)\n",
    "valid_x, valid_y, _ = engineer_rusher_feature(dataset = dataset, play_id_list = test_playid, is_train = False, scaler = scaler)"
   ]
  },
  {
   "cell_type": "code",
   "execution_count": 323,
   "metadata": {
    "collapsed": true
   },
   "outputs": [],
   "source": [
    "def batch(dataset, labels, batch_size):\n",
    "    l = len(labels)\n",
    "    for ndx in range(0, l, batch_size):\n",
    "        yield dataset[ndx:min(ndx+batch_size, l)], labels[ndx:min(ndx+batch_size, l)]\n",
    "def train_model(x_train, y_train, batch_size = 32, lr = 0.01, epoch_size = 500):\n",
    "    n_in, n_h, n_out= x_train.shape[1], 1000, 199\n",
    "    model = nn.Sequential(nn.Linear(n_in, n_h),\n",
    "                        nn.Sigmoid(), \n",
    "                        nn.Linear(n_h, n_out), \n",
    "                        nn.Sigmoid()\n",
    "                        )\n",
    "    criterion = nn.CrossEntropyLoss()\n",
    "    optim = torch.optim.SGD(model.parameters(), lr = lr)\n",
    "\n",
    "    for epoch in range(epoch_size):\n",
    "        for batch_x, batch_y in batch(x_train, y_train, batch_size):\n",
    "            y_pred = model(batch_x)\n",
    "\n",
    "            # get the loss function\n",
    "            loss = criterion(y_pred, batch_y)\n",
    "#             if epoch % 10 == 0:\n",
    "#                 print(\"epoch %s loss value: %.7f\"%(epoch, loss.item()))\n",
    "\n",
    "            # zero the gradient\n",
    "            optim.zero_grad()\n",
    "\n",
    "            # back propogate\n",
    "            loss.backward()\n",
    "\n",
    "            # update the parameter\n",
    "            optim.step()\n",
    "        if epoch % 10 == 0:\n",
    "            print(\"epoch %s loss value: %.7f\"%(epoch, loss.item()))\n",
    "\n",
    "    return(model)\n"
   ]
  },
  {
   "cell_type": "code",
   "execution_count": 324,
   "metadata": {
    "collapsed": true
   },
   "outputs": [],
   "source": [
    "def validate_model(model, x_test, y_test):\n",
    "    test_pred = model(x_test)\n",
    "    loss_fn = nn.CrossEntropyLoss()\n",
    "    test_MSE = loss_fn(test_pred, y_test)\n",
    "#     test_MSE = torch.mean((test_pred - y_test)**2)\n",
    "    print('test mean squared error is %.3f' %(test_MSE.item()))\n"
   ]
  },
  {
   "cell_type": "code",
   "execution_count": 325,
   "metadata": {
    "scrolled": true
   },
   "outputs": [
    {
     "name": "stdout",
     "output_type": "stream",
     "text": [
      "epoch 0 loss value: 4.7223964\n",
      "epoch 10 loss value: 4.5157967\n",
      "epoch 20 loss value: 4.5050035\n",
      "epoch 30 loss value: 4.5011964\n",
      "epoch 40 loss value: 4.4992647\n",
      "epoch 50 loss value: 4.4981055\n",
      "epoch 60 loss value: 4.4973383\n",
      "epoch 70 loss value: 4.4967999\n",
      "epoch 80 loss value: 4.4964037\n",
      "epoch 90 loss value: 4.4961042\n",
      "test mean squared error is 4.504\n"
     ]
    }
   ],
   "source": [
    "dl_model = train_model(model_x, model_y, batch_size = 32, lr = 0.01, epoch_size = 100)\n",
    "validate_model(dl_model, valid_x, valid_y)"
   ]
  },
  {
   "cell_type": "code",
   "execution_count": 253,
   "metadata": {
    "collapsed": true
   },
   "outputs": [],
   "source": [
    "def make_my_predictions(model, encoder, dataset, sample_prediction_df):\n",
    "    play_ids = dataset.PlayId.unique()[:2]\n",
    "    valid_x, _, _ = engineer_rusher_feature(dataset = dataset, play_id_list = play_ids, \n",
    "                                                  is_train = False, scaler = encoder, is_submission = True)    \n",
    "    predictions = model(valid_x).detach().numpy()\n",
    "    norm_prediction = np.round(np.cumsum((predictions.T/predictions.sum(axis = 1)).T, axis = 1), 2)\n",
    "    print(norm_prediction[0])\n",
    "    for i in range(dataset.shape[0]):\n",
    "        sample_prediction_df.iloc[i, :] = norm_prediction[i]\n",
    "#         sample_prediction_df.iloc[i, int(98 + pred)] = 0.5\n",
    "#         sample_prediction_df.iloc[i, int(99 + pred):] = 1\n",
    "    return sample_prediction_df"
   ]
  },
  {
   "cell_type": "code",
   "execution_count": 254,
   "metadata": {},
   "outputs": [
    {
     "name": "stdout",
     "output_type": "stream",
     "text": [
      "[0.   0.   0.   0.   0.   0.   0.   0.   0.   0.   0.   0.   0.   0.\n",
      " 0.   0.   0.   0.   0.01 0.01 0.01 0.01 0.01 0.01 0.01 0.01 0.01 0.01\n",
      " 0.01 0.01 0.01 0.01 0.01 0.01 0.01 0.01 0.01 0.01 0.01 0.01 0.01 0.01\n",
      " 0.01 0.01 0.01 0.01 0.01 0.01 0.01 0.01 0.01 0.01 0.01 0.01 0.01 0.01\n",
      " 0.02 0.02 0.02 0.02 0.02 0.02 0.02 0.02 0.02 0.02 0.02 0.02 0.02 0.02\n",
      " 0.02 0.02 0.02 0.02 0.02 0.02 0.02 0.02 0.02 0.02 0.02 0.02 0.02 0.02\n",
      " 0.02 0.02 0.02 0.02 0.02 0.02 0.02 0.02 0.02 0.03 0.03 0.07 0.12 0.17\n",
      " 0.22 0.27 0.32 0.37 0.42 0.47 0.52 0.57 0.62 0.67 0.72 0.77 0.82 0.86\n",
      " 0.89 0.92 0.94 0.96 0.97 0.97 0.97 0.97 0.98 0.98 0.98 0.98 0.98 0.98\n",
      " 0.98 0.98 0.98 0.98 0.98 0.98 0.98 0.98 0.98 0.98 0.98 0.98 0.98 0.98\n",
      " 0.98 0.98 0.98 0.99 0.99 0.99 0.99 0.99 0.99 0.99 0.99 0.99 0.99 0.99\n",
      " 0.99 0.99 0.99 0.99 0.99 0.99 0.99 0.99 0.99 0.99 0.99 0.99 0.99 0.99\n",
      " 0.99 0.99 0.99 0.99 0.99 0.99 0.99 0.99 0.99 0.99 0.99 0.99 1.   1.\n",
      " 1.   1.   1.   1.   1.   1.   1.   1.   1.   1.   1.   1.   1.   1.\n",
      " 1.   1.   1.  ]\n"
     ]
    }
   ],
   "source": [
    "make_my_predictions(dl_model, scaler, dataset, sample_prediction_df = [])"
   ]
  },
  {
   "cell_type": "code",
   "execution_count": 182,
   "metadata": {},
   "outputs": [
    {
     "data": {
      "image/png": "[encoded data removed]",
      "text/plain": [
       "<matplotlib.figure.Figure at 0x133a52c88>"
      ]
     },
     "metadata": {},
     "output_type": "display_data"
    }
   ],
   "source": [
    "test_pred = dl_model(valid_x)\n",
    "plt.bar(left = range(199), height = test_pred[10])\n",
    "plt.show()"
   ]
  },
  {
   "cell_type": "code",
   "execution_count": null,
   "metadata": {
    "collapsed": true
   },
   "outputs": [],
   "source": []
  }
 ],
 "metadata": {
  "kernelspec": {
   "display_name": "Python [Root]",
   "language": "python",
   "name": "Python [Root]"
  },
  "language_info": {
   "codemirror_mode": {
    "name": "ipython",
    "version": 3
   },
   "file_extension": ".py",
   "mimetype": "text/x-python",
   "name": "python",
   "nbconvert_exporter": "python",
   "pygments_lexer": "ipython3",
   "version": "3.5.4"
  }
 },
 "nbformat": 4,
 "nbformat_minor": 2
}
